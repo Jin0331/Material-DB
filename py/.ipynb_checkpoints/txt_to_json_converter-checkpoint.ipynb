{
 "cells": [
  {
   "cell_type": "markdown",
   "metadata": {},
   "source": [
    "## WMBIO Material TXT file to JSON Converter"
   ]
  },
  {
   "cell_type": "code",
   "execution_count": 21,
   "metadata": {},
   "outputs": [
    {
     "name": "stdout",
     "output_type": "stream",
     "text": [
      "/home/wmbio/WMBIO_DB\n"
     ]
    }
   ],
   "source": [
    "import os\n",
    "import json\n",
    "import datetime\n",
    "from pymongo import MongoClient\n",
    "\n",
    "print(os.getcwd())"
   ]
  },
  {
   "cell_type": "code",
   "execution_count": 30,
   "metadata": {},
   "outputs": [],
   "source": [
    "# function\n",
    "def timeStamped(fname, fmt='%Y-%m-%d-%H-%M-%S_{fname}'):\n",
    "    return datetime.datetime.now().strftime(fmt).format(fname=fname)\n",
    "\n",
    "def blood_to_json(path):\n",
    "    # backup file write\n",
    "    save_path = \"/home/wmbio/wmbio_material_backup/blood\"\n",
    "    file_name = timeStamped(\"blood.json\")\n",
    "    date_join = os.path.join(save_path, file_name)\n",
    "    \n",
    "    # txt to json(list or tuple)\n",
    "    total_converting = list()\n",
    "\n",
    "    f = open(path, \"r\", encoding=\"UTF-8\")\n",
    "    content = f.read()\n",
    "    splitcontent = content.splitlines()\n",
    "\n",
    "    for line in splitcontent:\n",
    "        line = line.split(\"\\t\")\n",
    "\n",
    "        # tuple list\n",
    "        Gooipchu, Patient_defualt, Patient_smoking, Patient_alcohol, Erbitux, Singel_cell, Cell_population, Cytokine_profile, In_vitro_coculture, Tested_drug = [],[],[],[],[],[],[],[],[],[] \n",
    "\n",
    "        # each filed to tuple\n",
    "        Gooipchu.append({\"Gooknae\":line[4], \"Haeoe\":line[5]})\n",
    "        Patient_defualt.append({\"Gender\":line[15], \"Age\":line[16], \"Height\":line[17], \"Weight\":line[18]})\n",
    "        Patient_smoking.append({\"Status\":line[19], \"Cigarettes_Day\":line[20], \"Duration\":line[21]})\n",
    "        Patient_alcohol.append({\"Status\":line[22], \"Drinks_Day\":line[23], \"Duration\":line[24]})\n",
    "        Erbitux.append({\"Responder\":line[26], \"Non-Responder\":line[27]})\n",
    "        Singel_cell.append({\"Date\":line[28], \"Performer\":line[29]})\n",
    "        Cell_population.append({\"Information\":line[30], \"Performer\":line[31]})\n",
    "        Cytokine_profile.append({\"Information\":line[32], \"Performer\":line[33]})\n",
    "        In_vitro_coculture.append({\"Information\":line[34], \"Performer\":line[35]})\n",
    "        Tested_drug.append({\"Information\":line[36], \"Performer\":line[37]})\n",
    "\n",
    "        # Inserting Data\n",
    "        total_converting.append({\"WMB_NO\":line[0], \"SampleID\":line[1], \"FF_ID\":line[3], \"Gumche_bungo\":line[4], \n",
    "                     \"Gooipchu\":Gooipchu, \"Ethnicity\":line[6], \"Cancer_Type\":line[7], \"Ipgo_hyngtae\":line[8],\n",
    "                     \"Insooja\":line[9], \"Ipgo_Data\":line[10], \"Location\":line[11], \"Cancer\":line[12], \"Tumor_Grade\":line[13],\n",
    "                     \"Tumor_Stage\" : line[14], \"Patient_defualt\":Patient_defualt, \"Patient_smoking\":Patient_smoking, \n",
    "                     \"Patient_alchohol\":Patient_alcohol, \"Prior_Treatment\":line[25], \"Erbitux\":Erbitux, \"Cell_poplation\":Cell_population,\n",
    "                     \"CYtokine_profile\":Cytokine_profile, \"In_vitro_coculture\":In_vitro_coculture, \"Tested_drug\":Tested_drug, \n",
    "                     \"Patient_information\":line[38]})  \n",
    "        \n",
    "    with open(date_join, 'w', encoding=\"UTF-8\") as file:\n",
    "        file.write((json.dumps(total_converting, indent=4, sort_keys= False, ensure_ascii=False)))\n",
    "    \n",
    "    return total_converting\n",
    "\n",
    "        \n",
    "def blood_result_to_json(path):\n",
    "    # backup file write\n",
    "    save_path = \"/home/wmbio/wmbio_material_backup/blood_result\"\n",
    "    file_name = timeStamped(\"blood_result.json\")\n",
    "    date_join = os.path.join(save_path, file_name)\n",
    "    \n",
    "    # txt to json(list or tuple)\n",
    "    total_converting = list()\n",
    "\n",
    "    f = open(path, \"r\", encoding=\"UTF-8\")\n",
    "    content = f.read()\n",
    "    splitcontent = content.splitlines()\n",
    "\n",
    "    for line in splitcontent:\n",
    "        line = line.split(\"\\t\")\n",
    "\n",
    "        # tuple list\n",
    "        Gooipchu, Patient_defualt, Patient_smoking, Patient_alcohol, Erbitux, Singel_cell, Cell_population, Cytokine_profile, In_vitro_coculture, Tested_drug = [],[],[],[],[],[],[],[],[],[] \n",
    "\n",
    "        # each filed to tuple\n",
    "        Gooipchu.append({\"Gooknae\":line[4], \"Haeoe\":line[5]})\n",
    "        Patient_defualt.append({\"Gender\":line[15], \"Age\":line[16], \"Height\":line[17], \"Weight\":line[18]})\n",
    "        Patient_smoking.append({\"Status\":line[19], \"Cigarettes_Day\":line[20], \"Duration\":line[21]})\n",
    "        Patient_alcohol.append({\"Status\":line[22], \"Drinks_Day\":line[23], \"Duration\":line[24]})\n",
    "        Erbitux.append({\"Responder\":line[26], \"Non-Responder\":line[27]})\n",
    "        Singel_cell.append({\"Date\":line[28], \"Performer\":line[29]})\n",
    "        Cell_population.append({\"Information\":line[30], \"Performer\":line[31]})\n",
    "        Cytokine_profile.append({\"Information\":line[32], \"Performer\":line[33]})\n",
    "        In_vitro_coculture.append({\"Information\":line[34], \"Performer\":line[35]})\n",
    "        Tested_drug.append({\"Information\":line[36], \"Performer\":line[37]})\n",
    "\n",
    "        # Inserting Data\n",
    "        total_converting.append({\"WMB_NO\":line[0], \"SampleID\":line[1], \"FF_ID\":line[3], \"Gumche_bungo\":line[4], \n",
    "                     \"Gooipchu\":Gooipchu, \"Ethnicity\":line[6], \"Cancer_Type\":line[7], \"Ipgo_hyngtae\":line[8],\n",
    "                     \"Insooja\":line[9], \"Ipgo_Data\":line[10], \"Location\":line[11], \"Cancer\":line[12], \"Tumor_Grade\":line[13],\n",
    "                     \"Tumor_Stage\" : line[14], \"Patient_defualt\":Patient_defualt, \"Patient_smoking\":Patient_smoking, \n",
    "                     \"Patient_alchohol\":Patient_alcohol, \"Prior_Treatment\":line[25], \"Erbitux\":Erbitux, \"Cell_poplation\":Cell_population,\n",
    "                     \"CYtokine_profile\":Cytokine_profile, \"In_vitro_coculture\":In_vitro_coculture, \"Tested_drug\":Tested_drug, \n",
    "                     \"Patient_information\":line[38]})  \n",
    "        \n",
    "    with open(date_join, 'w', encoding=\"UTF-8\") as file:\n",
    "        file.write((json.dumps(total_converting, indent=4, sort_keys= False, ensure_ascii=False)))\n",
    "    \n",
    "    return total_converting\n"
   ]
  },
  {
   "cell_type": "markdown",
   "metadata": {},
   "source": [
    "## Pymongo Connection"
   ]
  },
  {
   "cell_type": "code",
   "execution_count": 12,
   "metadata": {},
   "outputs": [],
   "source": [
    "userid = \"root\"\n",
    "password = \"sempre813!\"\n",
    "connection = MongoClient(\"mongodb://%s:%s@192.168.0.86\" % (userid, password))\n",
    "\n",
    "db = connection[\"material\"]\n",
    "blood_collection = db[\"blood\"]"
   ]
  },
  {
   "cell_type": "code",
   "execution_count": 31,
   "metadata": {},
   "outputs": [],
   "source": [
    "# TXT to json convert\n",
    "blood = blood_to_json(path=\"blood_test.txt\")"
   ]
  },
  {
   "cell_type": "code",
   "execution_count": 17,
   "metadata": {},
   "outputs": [
    {
     "data": {
      "text/plain": [
       "<pymongo.results.InsertManyResult at 0x7f0ed0712f48>"
      ]
     },
     "execution_count": 17,
     "metadata": {},
     "output_type": "execute_result"
    }
   ],
   "source": [
    "# insert collection\n",
    "blood_collection.insert_many(blood)"
   ]
  },
  {
   "cell_type": "code",
   "execution_count": 18,
   "metadata": {},
   "outputs": [],
   "source": [
    "blood_collection.drop()"
   ]
  }
 ],
 "metadata": {
  "kernelspec": {
   "display_name": "MongoDB",
   "language": "python",
   "name": "mongodb"
  },
  "language_info": {
   "codemirror_mode": {
    "name": "ipython",
    "version": 3
   },
   "file_extension": ".py",
   "mimetype": "text/x-python",
   "name": "python",
   "nbconvert_exporter": "python",
   "pygments_lexer": "ipython3",
   "version": "3.7.1"
  }
 },
 "nbformat": 4,
 "nbformat_minor": 4
}
