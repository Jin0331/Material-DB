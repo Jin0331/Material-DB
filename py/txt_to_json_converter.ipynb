{
 "cells": [
  {
   "cell_type": "markdown",
   "metadata": {},
   "source": [
    "## WMBIO Material TXT file to JSON Converter"
   ]
  },
  {
   "cell_type": "code",
   "execution_count": 12,
   "metadata": {},
   "outputs": [
    {
     "name": "stdout",
     "output_type": "stream",
     "text": [
      "/home/wmbio/WMBIO_DB/py\n"
     ]
    }
   ],
   "source": [
    "import os\n",
    "import json\n",
    "import datetime\n",
    "from pymongo import MongoClient\n",
    "\n",
    "print(os.getcwd())"
   ]
  },
  {
   "cell_type": "code",
   "execution_count": 58,
   "metadata": {},
   "outputs": [],
   "source": [
    "# # function\n",
    "# def timeStamped(fname, fmt='%Y-%m-%d-%H-%M-%S_{fname}'):\n",
    "#     return datetime.datetime.now().strftime(fmt).format(fname=fname)\n",
    "\n",
    "# def pdx_to_mongo(path):\n",
    "#     # backup file write\n",
    "#     save_path = \"/home/wmbio/WMBIO_DB/backup/pdx\"\n",
    "#     file_name = timeStamped(\"pdx.json\")\n",
    "#     date_join = os.path.join(save_path, file_name)\n",
    "    \n",
    "#     # txt to json(list or tuple)\n",
    "#     total_converting = list()\n",
    "\n",
    "#     f = open(path, \"r\", encoding=\"UTF-8\")\n",
    "#     content = f.read()\n",
    "#     splitcontent = content.splitlines()\n",
    "\n",
    "#     for line in splitcontent:\n",
    "#         line = line.split(\"\\t\")\n",
    "\n",
    "#         # tuple list\n",
    "#         # assiagn empty list\n",
    "#         empty_list_name = [\"Gooipchu\", \"Patient_defualt\", \"Patient_smoking\", \"Patient_alcohol\", \"Treatment_history\", \"Experimental_animals\",\n",
    "#                           \"Characterization\"]\n",
    "#         for name in empty_list_name:\n",
    "#             exec(\"%s = list()\" %(name), globals())\n",
    "\n",
    "#         # each filed to tuple\n",
    "#         Gooipchu.append({\"Gooknae\":line[4], \"Haeoe\":line[5]})\n",
    "#         Patient_defualt.append({\"Gender\":line[15], \"Age\":line[16], \"Height\":line[17], \"Weight\":line[18]})\n",
    "#         Patient_smoking.append({\"Status\":line[19], \"Cigarettes_Day\":line[20], \"Duration\":line[21]})\n",
    "#         Patient_alcohol.append({\"Status\":line[22], \"Drinks_Day\":line[23], \"Duration\":line[24]})\n",
    "#         Treatment_history.append({\"Prior_Treatment\":line[25], \"Drug\":line[26], \"Drug2\":line[27]})\n",
    "#         Experimental_animals.append({\"Mouse_Type\":line[29], \"Gooipchu\":line[30]})\n",
    "#         Characterization.append({\"Chemoresistance_status\":line[31], \"Mutation_status\":line[32], \"RON_Genotype\":line[33],\n",
    "#                                 \"IGSF1_Genotype\":line[34], \"P34_Genotype\":line[35]})\n",
    "\n",
    "#         # Inserting Data\n",
    "#         total_converting.append({\"WMB_NO\":line[0], \"SampleID\":line[1], \"FF_ID\":line[2], \"Gumche_bungo\":line[3], \n",
    "#                      \"Gooipchu\":Gooipchu, \"Ethnicity\":line[6], \"Tissue\":line[7], \"Disease\":line[8], \"Ipgo_hyngtae\":line[9],\n",
    "#                      \"Insooja\":line[10], \"Ipgo_Date\":line[11], \"Location\":line[12], \"Tumor_Grade\":line[13],\n",
    "#                      \"Tumor_Stage\":line[14], \"Patient_defualt\":Patient_defualt, \"Patient_smoking\":Patient_smoking, \n",
    "#                      \"Patient_alchohol\":Patient_alcohol, \"Treatment_history\" : Treatment_history,\n",
    "#                      \"Histological_Description\":line[28], \"Experimental_animals\":Experimental_animals,\n",
    "#                      \"Characterization\":Characterization})  \n",
    "        \n",
    "#     with open(date_join, 'w', encoding=\"UTF-8\") as file:\n",
    "#         file.write((json.dumps(total_converting, indent=4, sort_keys= False, ensure_ascii=False)))\n",
    "    \n",
    "#     return total_converting\n",
    "\n",
    "\n",
    "# def pdx_result_to_mongo(path):\n",
    "#     # backup file write\n",
    "#     save_path = \"/home/wmbio/WMBIO_DB/backup/pdx_result\"\n",
    "#     file_name = timeStamped(\"pdx_result.json\")\n",
    "#     date_join = os.path.join(save_path, file_name)\n",
    "    \n",
    "#     # txt to json(list or tuple)\n",
    "#     total_converting = list()\n",
    "\n",
    "#     f = open(path, \"r\", encoding=\"UTF-8\")\n",
    "#     content = f.read()\n",
    "#     splitcontent = content.splitlines()\n",
    "\n",
    "#     for line in splitcontent:\n",
    "#         line = line.split(\"\\t\")\n",
    "\n",
    "#         # tuple list\n",
    "#         # assiagn empty list\n",
    "#         empty_list_name = [\"Experimental_Information\"]\n",
    "#         for name in empty_list_name:\n",
    "#             exec(\"%s = list()\" %(name), globals())\n",
    "\n",
    "#         # each filed to tuple\n",
    "#         Experimental_Information.append({\"image_path\":line[10], \"Experimental_tissue\":line[11], \"Passage\":line[12],\n",
    "#                                 \"Media\":line[13], \"Transplantation_point\":line[14], \"Administration_point\":line[15],\n",
    "#                                 \"Transplantation_Administration_duration\":line[16], \"Issue\":line[17], \"Experimental_info\":line[18],\n",
    "#                                 \"Experimental_result\":line[19], \"Soohangja\":line[20]})\n",
    "\n",
    "#         # Inserting Data\n",
    "#         total_converting.append({\"WMB_NO\":line[0], \"SampleID\":line[1], \"FF_ID\":line[2], \"Gumche_bungo\":line[3], \n",
    "#                      \"Tissue_site\":line[4], \"Cancer\":line[5], \"Tumor_Grade\":line[6], \"Tumor_Stage\":line[7], \"Treatment_History\":line[8],\n",
    "#                      \"Drug_resistant\":line[9], \"Experimental_Information\":Experimental_Information})  \n",
    "        \n",
    "#     with open(date_join, 'w', encoding=\"UTF-8\") as file:\n",
    "#         file.write((json.dumps(total_converting, indent=4, sort_keys= False, ensure_ascii=False)))\n",
    "    \n",
    "#     return total_converting\n",
    "\n",
    "# def drug_to_mongo(path):\n",
    "#     # backup file write\n",
    "#     save_path = \"/home/wmbio/WMBIO_DB/backup/drug\"\n",
    "#     file_name = timeStamped(\"drug.json\")\n",
    "#     date_join = os.path.join(save_path, file_name)\n",
    "    \n",
    "#     # txt to json(list or tuple)\n",
    "#     total_converting = list()\n",
    "\n",
    "#     f = open(path, \"r\", encoding=\"UTF-8\")\n",
    "#     content = f.read()\n",
    "#     splitcontent = content.splitlines()\n",
    "\n",
    "#     for line in splitcontent:\n",
    "#         line = line.split(\"\\t\")\n",
    "        \n",
    "#         # Inserting Data\n",
    "#         total_converting.append({\"WMB_NO\":line[0], \"SampleID\":line[1], \"Manufacturer\":line[2], \"Volume\":line[3], \n",
    "#                          \"Cat\":line[4], \"Data_sheet\":line[5]})  \n",
    "        \n",
    "#     with open(date_join, 'w', encoding=\"UTF-8\") as file:\n",
    "#         file.write((json.dumps(total_converting, indent=4, sort_keys= False, ensure_ascii=False)))\n",
    "    \n",
    "#     return total_converting\n",
    "\n",
    "# def antibody_to_mongo(path):\n",
    "#     # backup file write\n",
    "#     save_path = \"/home/wmbio/WMBIO_DB/backup/antibody\"\n",
    "#     file_name = timeStamped(\"antibody.json\")\n",
    "#     date_join = os.path.join(save_path, file_name)\n",
    "    \n",
    "#     # txt to json(list or tuple)\n",
    "#     total_converting = list()\n",
    "\n",
    "#     f = open(path, \"r\", encoding=\"UTF-8\")\n",
    "#     content = f.read()\n",
    "#     splitcontent = content.splitlines()\n",
    "\n",
    "#     for line in splitcontent:\n",
    "#         line = line.split(\"\\t\")\n",
    "        \n",
    "#         # Inserting Data\n",
    "#         total_converting.append({\"No\":line[0], \"WMB_NO\":line[1], \"Antibody\":line[2], \"Cat_No\":line[3], \"Lot_No\":line[4], \n",
    "#                          \"Conc\":line[5], \"Host\":line[6], \"Species_Reactivity\":line[7], \"Application\":line[8], \"Use_Titer\":line[9], \n",
    "#                          \"Blocking Buffer\":line[10], \"Protein_size\":line[11], \"Vial\":line[12], \"Ipgo_date\":line[13], \"Location\":line[14],\n",
    "#                          \"Manager\":line[15], \"Manufacturer\":line[16], \"etc\":line[17]})  \n",
    "        \n",
    "#     with open(date_join, 'w', encoding=\"UTF-8\") as file:\n",
    "#         file.write((json.dumps(total_converting, indent=4, sort_keys= False, ensure_ascii=False)))\n",
    "    \n",
    "#     return total_converting\n",
    "\n",
    "def protein_to_mongo(path):\n",
    "    # backup file write\n",
    "    save_path = \"/home/wmbio/WMBIO_DB/backup/protein\"\n",
    "    file_name = timeStamped(\"protein.json\")\n",
    "    date_join = os.path.join(save_path, file_name)\n",
    "    \n",
    "    # txt to json(list or tuple)\n",
    "    total_converting = list()\n",
    "\n",
    "    f = open(path, \"r\", encoding=\"UTF-8\")\n",
    "    content = f.read()\n",
    "    splitcontent = content.splitlines()\n",
    "\n",
    "    for line in splitcontent:\n",
    "        line = line.split(\"\\t\")\n",
    "        \n",
    "        # Inserting Data\n",
    "        total_converting.append({\"Projtect\":line[0], \"WMB_NO\":line[1], \"Reagent_name\":line[2], \"Manufacturer\":line[3], \"Cat_No\":line[4], \n",
    "                         \"Lot_No\":line[5], \"Leftover\":line[6], \"Location\":line[7], \"Data_sheet\":line[8]})  \n",
    "        \n",
    "    with open(date_join, 'w', encoding=\"UTF-8\") as file:\n",
    "        file.write((json.dumps(total_converting, indent=4, sort_keys= False, ensure_ascii=False)))\n",
    "    \n",
    "    return total_converting"
   ]
  },
  {
   "cell_type": "markdown",
   "metadata": {},
   "source": [
    "## Pymongo Connection Open"
   ]
  },
  {
   "cell_type": "code",
   "execution_count": 26,
   "metadata": {},
   "outputs": [],
   "source": [
    "userid = \"root\"\n",
    "password = \"sempre813!\"\n",
    "connection = MongoClient(\"mongodb://%s:%s@192.168.0.6\" % (userid, password))\n",
    "db = connection[\"material\"]"
   ]
  },
  {
   "cell_type": "markdown",
   "metadata": {},
   "source": [
    "### PDX upload\n",
    "\n",
    "* **PDXlist**"
   ]
  },
  {
   "cell_type": "code",
   "execution_count": 41,
   "metadata": {},
   "outputs": [],
   "source": [
    "# TXT to json convert\n",
    "pdx = pdx_to_mongo(path=\"/home/wmbio/WMBIO_DB/raw_data/PDX_list_raw.txt\")"
   ]
  },
  {
   "cell_type": "code",
   "execution_count": 42,
   "metadata": {},
   "outputs": [
    {
     "data": {
      "text/plain": [
       "{'ok': 1.0}"
      ]
     },
     "execution_count": 42,
     "metadata": {},
     "output_type": "execute_result"
    }
   ],
   "source": [
    "# insert collection\n",
    "pdx_collection = db[\"pdx_collection\"]\n",
    "pdx_collection.insert_many(pdx)\n",
    "\n",
    "# cache clean\n",
    "db.command(\n",
    "    {\n",
    "        \"planCacheClear\": \"collection_name\"\n",
    "    }\n",
    ")"
   ]
  },
  {
   "cell_type": "code",
   "execution_count": 34,
   "metadata": {},
   "outputs": [],
   "source": [
    "# pdx_collection.drop()"
   ]
  },
  {
   "cell_type": "markdown",
   "metadata": {},
   "source": [
    "* **PDX result**"
   ]
  },
  {
   "cell_type": "code",
   "execution_count": 39,
   "metadata": {},
   "outputs": [],
   "source": [
    "# TXT to json convert\n",
    "pdx_result = pdx_result_to_mongo(path=\"/home/wmbio/WMBIO_DB/raw_data/PDX_result_raw.txt\")"
   ]
  },
  {
   "cell_type": "code",
   "execution_count": 40,
   "metadata": {},
   "outputs": [
    {
     "data": {
      "text/plain": [
       "{'ok': 1.0}"
      ]
     },
     "execution_count": 40,
     "metadata": {},
     "output_type": "execute_result"
    }
   ],
   "source": [
    "# insert collection\n",
    "pdx_result_collection = db[\"pdx_result_collection\"]\n",
    "pdx_result_collection.insert_many(pdx_result)\n",
    "\n",
    "# cache clean\n",
    "db.command(\n",
    "    {\n",
    "        \"planCacheClear\": \"collection_name\"\n",
    "    }\n",
    ")"
   ]
  },
  {
   "cell_type": "markdown",
   "metadata": {},
   "source": [
    "### DRUG upload\n",
    "\n",
    "* **drug**"
   ]
  },
  {
   "cell_type": "code",
   "execution_count": 51,
   "metadata": {},
   "outputs": [],
   "source": [
    "# TXT to json convert\n",
    "drug = drug_to_mongo(path=\"/home/wmbio/WMBIO_DB/raw_data/drug_raw.txt\")"
   ]
  },
  {
   "cell_type": "code",
   "execution_count": 52,
   "metadata": {},
   "outputs": [
    {
     "data": {
      "text/plain": [
       "{'ok': 1.0}"
      ]
     },
     "execution_count": 52,
     "metadata": {},
     "output_type": "execute_result"
    }
   ],
   "source": [
    "# insert collection\n",
    "drug_collection = db[\"drug_collection\"]\n",
    "drug_collection.insert _many(drug)\n",
    "\n",
    "# cache clean\n",
    "db.command(\n",
    "    {\n",
    "        \"planCacheClear\": \"collection_name\"\n",
    "    }\n",
    ")"
   ]
  },
  {
   "cell_type": "markdown",
   "metadata": {},
   "source": [
    "### ANTIBODY upload\n",
    "\n",
    "* **antibody**"
   ]
  },
  {
   "cell_type": "code",
   "execution_count": 55,
   "metadata": {},
   "outputs": [],
   "source": [
    "# TXT to json convert\n",
    "antibody = antibody_to_mongo(path=\"/home/wmbio/WMBIO_DB/raw_data/antibody_raw.txt\")"
   ]
  },
  {
   "cell_type": "code",
   "execution_count": 57,
   "metadata": {},
   "outputs": [
    {
     "data": {
      "text/plain": [
       "{'ok': 1.0}"
      ]
     },
     "execution_count": 57,
     "metadata": {},
     "output_type": "execute_result"
    }
   ],
   "source": [
    "# insert collection\n",
    "antibody_collection = db[\"antibody_collection\"]\n",
    "antibody_collection.insert_many(antibody)\n",
    "\n",
    "# cache clean\n",
    "db.command(\n",
    "    {\n",
    "        \"planCacheClear\": \"collection_name\"\n",
    "    }\n",
    ")"
   ]
  },
  {
   "cell_type": "markdown",
   "metadata": {},
   "source": [
    "### Protein upload\n",
    "\n",
    "* **protein**"
   ]
  },
  {
   "cell_type": "code",
   "execution_count": 59,
   "metadata": {},
   "outputs": [],
   "source": [
    "# TXT to json convert\n",
    "protein = protein_to_mongo(path=\"/home/wmbio/WMBIO_DB/raw_data/protein_raw.txt\")"
   ]
  },
  {
   "cell_type": "code",
   "execution_count": 60,
   "metadata": {},
   "outputs": [
    {
     "data": {
      "text/plain": [
       "{'ok': 1.0}"
      ]
     },
     "execution_count": 60,
     "metadata": {},
     "output_type": "execute_result"
    }
   ],
   "source": [
    "# insert collection\n",
    "protein_collection = db[\"protein_collection\"]\n",
    "protein_collection.insert_many(protein)\n",
    "\n",
    "# cache clean\n",
    "db.command(\n",
    "    {\n",
    "        \"planCacheClear\": \"collection_name\"\n",
    "    }\n",
    ")"
   ]
  },
  {
   "cell_type": "markdown",
   "metadata": {},
   "source": [
    "## Pymongo Connection Close"
   ]
  },
  {
   "cell_type": "code",
   "execution_count": 25,
   "metadata": {},
   "outputs": [],
   "source": [
    "connection.close()"
   ]
  }
 ],
 "metadata": {
  "kernelspec": {
   "display_name": "MongoDB",
   "language": "python",
   "name": "mongodb"
  },
  "language_info": {
   "codemirror_mode": {
    "name": "ipython",
    "version": 3
   },
   "file_extension": ".py",
   "mimetype": "text/x-python",
   "name": "python",
   "nbconvert_exporter": "python",
   "pygments_lexer": "ipython3",
   "version": "3.7.1"
  }
 },
 "nbformat": 4,
 "nbformat_minor": 4
}
