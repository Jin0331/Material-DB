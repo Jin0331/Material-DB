{
 "cells": [
  {
   "cell_type": "markdown",
   "metadata": {},
   "source": [
    "## WMBIO Material TXT file to JSON Converter"
   ]
  },
  {
   "cell_type": "markdown",
   "metadata": {},
   "source": [
    "## Pymongo Connection Open"
   ]
  },
  {
   "cell_type": "code",
   "execution_count": 1,
   "metadata": {},
   "outputs": [],
   "source": [
    "from pymongo import MongoClient\n",
    "\n",
    "userid = \"root\"\n",
    "password = \"sempre813!\"\n",
    "connection = MongoClient(\"mongodb://%s:%s@192.168.0.90\" % (userid, password))\n",
    "db = connection[\"material\"]"
   ]
  },
  {
   "cell_type": "markdown",
   "metadata": {},
   "source": [
    "### Blood upload\n",
    "\n",
    "* **Blood**"
   ]
  },
  {
   "cell_type": "code",
   "execution_count": null,
   "metadata": {},
   "outputs": [],
   "source": [
    "# TXT to json conv|ert\n",
    "%run converter.py\n",
    "blood = blood_to_mongo(path=\"/home/wmbio/WMBIO_DB/raw_data/blood_raw.txt\")"
   ]
  },
  {
   "cell_type": "code",
   "execution_count": null,
   "metadata": {},
   "outputs": [],
   "source": [
    "# insert collection\n",
    "blood_collection = db[\"blood_collection\"]"
   ]
  },
  {
   "cell_type": "code",
   "execution_count": null,
   "metadata": {},
   "outputs": [],
   "source": [
    "blood_collection.insert_many(blood)\n",
    "\n",
    "# cache clean\n",
    "db.command(\n",
    "    {\n",
    "        \"planCacheClear\": \"collection_name\"\n",
    "    }\n",
    ")"
   ]
  },
  {
   "cell_type": "code",
   "execution_count": null,
   "metadata": {},
   "outputs": [],
   "source": [
    "blood_collection.drop()"
   ]
  },
  {
   "cell_type": "markdown",
   "metadata": {},
   "source": [
    "* **Blood result**"
   ]
  },
  {
   "cell_type": "code",
   "execution_count": null,
   "metadata": {},
   "outputs": [],
   "source": [
    "# TXT to json convert\n",
    "%run converter.py\n",
    "blood_result = blood_result_to_mongo(path=\"/home/wmbio/WMBIO_DB/raw_data/blood_result_raw.txt\")"
   ]
  },
  {
   "cell_type": "code",
   "execution_count": null,
   "metadata": {},
   "outputs": [],
   "source": [
    "# insert collection\n",
    "blood_result_collection = db[\"blood_result_collection\"]"
   ]
  },
  {
   "cell_type": "code",
   "execution_count": null,
   "metadata": {},
   "outputs": [],
   "source": [
    "blood_result_collection.insert_many(blood_result)\n",
    "\n",
    "# cache clean\n",
    "db.command(\n",
    "    {\n",
    "        \"planCacheClear\": \"collection_name\"\n",
    "    }\n",
    ")"
   ]
  },
  {
   "cell_type": "code",
   "execution_count": null,
   "metadata": {},
   "outputs": [],
   "source": [
    "blood_result_collection.drop()"
   ]
  },
  {
   "cell_type": "markdown",
   "metadata": {},
   "source": [
    "### PDX upload\n",
    "\n",
    "* **PDXlist**"
   ]
  },
  {
   "cell_type": "code",
   "execution_count": null,
   "metadata": {},
   "outputs": [],
   "source": [
    "# TXT to json convert\n",
    "%run converter.py\n",
    "pdx = pdx_to_mongo(path=\"/home/wmbio/WMBIO_DB/raw_data/pdx_list_raw.txt\")"
   ]
  },
  {
   "cell_type": "code",
   "execution_count": null,
   "metadata": {},
   "outputs": [],
   "source": [
    "# insert collection\n",
    "pdx_collection = db[\"pdx_collection\"]"
   ]
  },
  {
   "cell_type": "code",
   "execution_count": null,
   "metadata": {},
   "outputs": [],
   "source": [
    "pdx_collection.insert_many(pdx)\n",
    "\n",
    "# cache clean\n",
    "db.command(\n",
    "    {\n",
    "        \"planCacheClear\": \"collection_name\"\n",
    "    }\n",
    ")"
   ]
  },
  {
   "cell_type": "code",
   "execution_count": null,
   "metadata": {},
   "outputs": [],
   "source": [
    "pdx_collection.drop()"
   ]
  },
  {
   "cell_type": "markdown",
   "metadata": {},
   "source": [
    "* **PDX result**"
   ]
  },
  {
   "cell_type": "code",
   "execution_count": null,
   "metadata": {},
   "outputs": [],
   "source": [
    "# TXT to json convert\n",
    "%run converter.py\n",
    "pdx_result = pdx_result_to_mongo(path=\"/home/wmbio/WMBIO_DB/raw_data/pdx_result_raw.txt\")"
   ]
  },
  {
   "cell_type": "code",
   "execution_count": null,
   "metadata": {},
   "outputs": [],
   "source": [
    "# insert collection\n",
    "pdx_result_collection = db[\"pdx_result_collection\"]"
   ]
  },
  {
   "cell_type": "code",
   "execution_count": null,
   "metadata": {},
   "outputs": [],
   "source": [
    "pdx_result_collection.insert_many(pdx_result)\n",
    "\n",
    "# cache clean\n",
    "db.command(\n",
    "    {\n",
    "        \"planCacheClear\": \"collection_name\"\n",
    "    }\n",
    ")"
   ]
  },
  {
   "cell_type": "code",
   "execution_count": null,
   "metadata": {},
   "outputs": [],
   "source": [
    "pdx_result_collection.drop()"
   ]
  },
  {
   "cell_type": "markdown",
   "metadata": {},
   "source": [
    "### FF upload\n",
    "\n",
    "* **FF**"
   ]
  },
  {
   "cell_type": "code",
   "execution_count": 3,
   "metadata": {},
   "outputs": [],
   "source": [
    "# TXT to json convert\n",
    "%run converter.py\n",
    "ff = ff_to_mongo(path=\"/home/wmbio/WMBIO_DB/raw_data/ff_raw.txt\")"
   ]
  },
  {
   "cell_type": "code",
   "execution_count": 4,
   "metadata": {},
   "outputs": [],
   "source": [
    "# insert collection\n",
    "ff_collection = db[\"ff_collection\"]"
   ]
  },
  {
   "cell_type": "code",
   "execution_count": 6,
   "metadata": {},
   "outputs": [
    {
     "data": {
      "text/plain": [
       "{'ok': 1.0}"
      ]
     },
     "execution_count": 6,
     "metadata": {},
     "output_type": "execute_result"
    }
   ],
   "source": [
    "ff_collection.insert_many(ff)\n",
    "\n",
    "# cache clean\n",
    "db.command(\n",
    "    {\n",
    "        \"planCacheClear\": \"collection_name\"\n",
    "    }\n",
    ")"
   ]
  },
  {
   "cell_type": "code",
   "execution_count": 5,
   "metadata": {},
   "outputs": [],
   "source": [
    "ff_collection.drop()"
   ]
  },
  {
   "cell_type": "markdown",
   "metadata": {},
   "source": [
    "* **FF result**"
   ]
  },
  {
   "cell_type": "code",
   "execution_count": 9,
   "metadata": {},
   "outputs": [],
   "source": [
    "# TXT to json convert\n",
    "%run converter.py\n",
    "ff_result = ff_result_to_mongo(path=\"/home/wmbio/WMBIO_DB/raw_data/ff_result_raw.txt\")"
   ]
  },
  {
   "cell_type": "code",
   "execution_count": 10,
   "metadata": {},
   "outputs": [],
   "source": [
    "# insert collection\n",
    "ff_result_collection = db[\"ff_result_collection\"]"
   ]
  },
  {
   "cell_type": "code",
   "execution_count": 12,
   "metadata": {},
   "outputs": [
    {
     "data": {
      "text/plain": [
       "{'ok': 1.0}"
      ]
     },
     "execution_count": 12,
     "metadata": {},
     "output_type": "execute_result"
    }
   ],
   "source": [
    "ff_result_collection.insert_many(ff_result)\n",
    "\n",
    "# cache clean\n",
    "db.command(\n",
    "    {\n",
    "        \"planCacheClear\": \"collection_name\"\n",
    "    }\n",
    ")"
   ]
  },
  {
   "cell_type": "code",
   "execution_count": 11,
   "metadata": {},
   "outputs": [],
   "source": [
    "ff_result_collection.drop()"
   ]
  },
  {
   "cell_type": "markdown",
   "metadata": {},
   "source": [
    "### FFPE upload\n",
    "\n",
    "* **FFPE**"
   ]
  },
  {
   "cell_type": "code",
   "execution_count": 16,
   "metadata": {},
   "outputs": [],
   "source": [
    "# TXT to json convert\n",
    "%run converter.py\n",
    "ffpe = ffpe_to_mongo(path=\"/home/wmbio/WMBIO_DB/raw_data/ffpe_raw.txt\")"
   ]
  },
  {
   "cell_type": "code",
   "execution_count": 17,
   "metadata": {},
   "outputs": [],
   "source": [
    "# insert collection\n",
    "ffpe_collection = db[\"ffpe_collection\"]"
   ]
  },
  {
   "cell_type": "code",
   "execution_count": 18,
   "metadata": {},
   "outputs": [
    {
     "data": {
      "text/plain": [
       "{'ok': 1.0}"
      ]
     },
     "execution_count": 18,
     "metadata": {},
     "output_type": "execute_result"
    }
   ],
   "source": [
    "ffpe_collection.insert_many(ffpe)\n",
    "\n",
    "# cache clean\n",
    "db.command(\n",
    "    {\n",
    "        \"planCacheClear\": \"collection_name\"\n",
    "    }\n",
    ")"
   ]
  },
  {
   "cell_type": "code",
   "execution_count": 5,
   "metadata": {},
   "outputs": [],
   "source": [
    "ffpe_collection.drop()"
   ]
  },
  {
   "cell_type": "markdown",
   "metadata": {},
   "source": [
    "* **FFPE result**"
   ]
  },
  {
   "cell_type": "code",
   "execution_count": 24,
   "metadata": {},
   "outputs": [],
   "source": [
    "# TXT to json convert\n",
    "%run converter.py\n",
    "ffpe_result = ffpe_result_to_mongo(path=\"/home/wmbio/WMBIO_DB/raw_data/ffpe_result_raw.txt\")"
   ]
  },
  {
   "cell_type": "code",
   "execution_count": 25,
   "metadata": {},
   "outputs": [],
   "source": [
    "# insert collection\n",
    "ffpe_result_collection = db[\"ffpe_result_collection\"]"
   ]
  },
  {
   "cell_type": "code",
   "execution_count": 26,
   "metadata": {},
   "outputs": [
    {
     "data": {
      "text/plain": [
       "{'ok': 1.0}"
      ]
     },
     "execution_count": 26,
     "metadata": {},
     "output_type": "execute_result"
    }
   ],
   "source": [
    "ffpe_result_collection.insert_many(ffpe_result)\n",
    "\n",
    "# cache clean\n",
    "db.command(\n",
    "    {\n",
    "        \"planCacheClear\": \"collection_name\"\n",
    "    }\n",
    ")"
   ]
  },
  {
   "cell_type": "code",
   "execution_count": 23,
   "metadata": {},
   "outputs": [],
   "source": [
    "ffpe_result_collection.drop()"
   ]
  },
  {
   "cell_type": "markdown",
   "metadata": {},
   "source": [
    "### DRUG upload\n",
    "\n",
    "* **drug**"
   ]
  },
  {
   "cell_type": "code",
   "execution_count": null,
   "metadata": {},
   "outputs": [],
   "source": [
    "# TXT to json convert\n",
    "%run converter.py\n",
    "drug = drug_to_mongo(path=\"/home/wmbio/WMBIO_DB/raw_data/drug_raw.txt\")"
   ]
  },
  {
   "cell_type": "code",
   "execution_count": null,
   "metadata": {},
   "outputs": [],
   "source": [
    "drug_collection = db[\"drug_collection\"]"
   ]
  },
  {
   "cell_type": "code",
   "execution_count": null,
   "metadata": {},
   "outputs": [],
   "source": [
    "# insert collection\n",
    "drug_collection.insert_many(drug)\n",
    "\n",
    "# cache clean\n",
    "db.command(\n",
    "    {\n",
    "        \"planCacheClear\": \"collection_name\"\n",
    "    }\n",
    ")"
   ]
  },
  {
   "cell_type": "code",
   "execution_count": null,
   "metadata": {},
   "outputs": [],
   "source": [
    "drug_collection.drop()"
   ]
  },
  {
   "cell_type": "markdown",
   "metadata": {},
   "source": [
    "### ANTIBODY upload\n",
    "\n",
    "* **WB**"
   ]
  },
  {
   "cell_type": "code",
   "execution_count": 29,
   "metadata": {},
   "outputs": [],
   "source": [
    "# TXT to json convert\n",
    "%run converter.py\n",
    "antibody_wb = antibody_WB_to_mongo(path=\"/home/wmbio/WMBIO_DB/raw_data/antibody_wb_raw.txt\")"
   ]
  },
  {
   "cell_type": "code",
   "execution_count": 30,
   "metadata": {},
   "outputs": [],
   "source": [
    "# insert collection\n",
    "antibody_wb_collection = db[\"antibody_wb_collection\"]"
   ]
  },
  {
   "cell_type": "code",
   "execution_count": 31,
   "metadata": {},
   "outputs": [
    {
     "data": {
      "text/plain": [
       "{'ok': 1.0}"
      ]
     },
     "execution_count": 31,
     "metadata": {},
     "output_type": "execute_result"
    }
   ],
   "source": [
    "antibody_wb_collection.insert_many(antibody_wb)\n",
    "\n",
    "# cache clean\n",
    "db.command(\n",
    "    {\n",
    "        \"planCacheClear\": \"collection_name\"\n",
    "    }\n",
    ")"
   ]
  },
  {
   "cell_type": "code",
   "execution_count": 20,
   "metadata": {},
   "outputs": [],
   "source": [
    "antibody_wb_collection.drop()"
   ]
  },
  {
   "cell_type": "markdown",
   "metadata": {},
   "source": [
    "* **IHC**"
   ]
  },
  {
   "cell_type": "code",
   "execution_count": 32,
   "metadata": {},
   "outputs": [],
   "source": [
    "# TXT to json convert\n",
    "%run converter.py\n",
    "antibody_ihc = antibody_IHC_to_mongo(path=\"/home/wmbio/WMBIO_DB/raw_data/antibody_ihc_raw.txt\")"
   ]
  },
  {
   "cell_type": "code",
   "execution_count": 33,
   "metadata": {},
   "outputs": [],
   "source": [
    "# insert collection\n",
    "antibody_ihc_collection = db[\"antibody_ihc_collection\"]"
   ]
  },
  {
   "cell_type": "code",
   "execution_count": 34,
   "metadata": {},
   "outputs": [
    {
     "data": {
      "text/plain": [
       "{'ok': 1.0}"
      ]
     },
     "execution_count": 34,
     "metadata": {},
     "output_type": "execute_result"
    }
   ],
   "source": [
    "antibody_ihc_collection.insert_many(antibody_ihc)\n",
    "\n",
    "# cache clean\n",
    "db.command(\n",
    "    {\n",
    "        \"planCacheClear\": \"collection_name\"\n",
    "    }\n",
    ")"
   ]
  },
  {
   "cell_type": "code",
   "execution_count": 24,
   "metadata": {},
   "outputs": [],
   "source": [
    "antibody_ihc_collection.drop()"
   ]
  },
  {
   "cell_type": "markdown",
   "metadata": {},
   "source": [
    "* **FACS**"
   ]
  },
  {
   "cell_type": "code",
   "execution_count": 35,
   "metadata": {},
   "outputs": [],
   "source": [
    "# TXT to json convert\n",
    "%run converter.py\n",
    "antibody_facs = antibody_FACS_to_mongo(path=\"/home/wmbio/WMBIO_DB/raw_data/antibody_facs_raw.txt\")"
   ]
  },
  {
   "cell_type": "code",
   "execution_count": 36,
   "metadata": {},
   "outputs": [],
   "source": [
    "# insert collection\n",
    "antibody_facs_collection = db[\"antibody_facs_collection\"]"
   ]
  },
  {
   "cell_type": "code",
   "execution_count": 37,
   "metadata": {},
   "outputs": [
    {
     "data": {
      "text/plain": [
       "{'ok': 1.0}"
      ]
     },
     "execution_count": 37,
     "metadata": {},
     "output_type": "execute_result"
    }
   ],
   "source": [
    "antibody_facs_collection.insert_many(antibody_facs)\n",
    "\n",
    "# cache clean\n",
    "db.command(\n",
    "    {\n",
    "        \"planCacheClear\": \"collection_name\"\n",
    "    }\n",
    ")"
   ]
  },
  {
   "cell_type": "code",
   "execution_count": 28,
   "metadata": {},
   "outputs": [],
   "source": [
    "antibody_facs_collection.drop()"
   ]
  },
  {
   "cell_type": "markdown",
   "metadata": {},
   "source": [
    "### Protein upload\n",
    "\n",
    "* **protein**"
   ]
  },
  {
   "cell_type": "code",
   "execution_count": null,
   "metadata": {},
   "outputs": [],
   "source": [
    "# TXT to json convert\n",
    "%run converter.py\n",
    "protein = protein_to_mongo(path=\"/home/wmbio/WMBIO_DB/raw_data/protein_raw.txt\")"
   ]
  },
  {
   "cell_type": "code",
   "execution_count": null,
   "metadata": {},
   "outputs": [],
   "source": [
    "# insert collection\n",
    "protein_collection = db[\"protein_collection\"]"
   ]
  },
  {
   "cell_type": "code",
   "execution_count": null,
   "metadata": {},
   "outputs": [],
   "source": [
    "protein_collection.insert_many(protein)\n",
    "\n",
    "# cache clean\n",
    "db.command(\n",
    "    {\n",
    "        \"planCacheClear\": \"collection_name\"\n",
    "    }\n",
    ")"
   ]
  },
  {
   "cell_type": "code",
   "execution_count": null,
   "metadata": {},
   "outputs": [],
   "source": [
    "protein_collection.drop()"
   ]
  },
  {
   "cell_type": "markdown",
   "metadata": {},
   "source": [
    "### SiRNA, ShRNA upload\n",
    "\n",
    "* **SiRNA, ShRNA**"
   ]
  },
  {
   "cell_type": "code",
   "execution_count": null,
   "metadata": {},
   "outputs": [],
   "source": [
    "# TXT to json convert\n",
    "%run converter.py\n",
    "shsirna = shsirna_to_mongo(path=\"/home/wmbio/WMBIO_DB/raw_data/shsirna_raw.txt\")"
   ]
  },
  {
   "cell_type": "code",
   "execution_count": null,
   "metadata": {},
   "outputs": [],
   "source": [
    "# insert collection\n",
    "shsirna_collection = db[\"shsirna_collection\"]"
   ]
  },
  {
   "cell_type": "code",
   "execution_count": null,
   "metadata": {},
   "outputs": [],
   "source": [
    "shsirna_collection.insert_many(shsirna)\n",
    "\n",
    "# cache clean\n",
    "db.command(\n",
    "    {\n",
    "        \"planCacheClear\": \"collection_name\"\n",
    "    }\n",
    ")"
   ]
  },
  {
   "cell_type": "code",
   "execution_count": null,
   "metadata": {},
   "outputs": [],
   "source": [
    "shsirna_collection.drop()"
   ]
  },
  {
   "cell_type": "markdown",
   "metadata": {},
   "source": [
    "### Cell Line upload\n",
    "\n",
    "* **Celline**"
   ]
  },
  {
   "cell_type": "code",
   "execution_count": null,
   "metadata": {},
   "outputs": [],
   "source": [
    "# TXT to json convert\n",
    "%run converter.py\n",
    "celline = celline_to_mongo(path=\"/home/wmbio/WMBIO_DB/raw_data/celline_raw.txt\")"
   ]
  },
  {
   "cell_type": "code",
   "execution_count": null,
   "metadata": {},
   "outputs": [],
   "source": [
    "# insert collection\n",
    "celline_collection = db[\"celline_collection\"]"
   ]
  },
  {
   "cell_type": "code",
   "execution_count": null,
   "metadata": {},
   "outputs": [],
   "source": [
    "celline_collection.insert_many(celline)\n",
    "\n",
    "# cache clean\n",
    "db.command(\n",
    "    {\n",
    "        \"planCacheClear\": \"collection_name\"\n",
    "    }\n",
    ")"
   ]
  },
  {
   "cell_type": "code",
   "execution_count": null,
   "metadata": {},
   "outputs": [],
   "source": [
    "celline_collection.drop()"
   ]
  },
  {
   "cell_type": "markdown",
   "metadata": {},
   "source": [
    "## Pymongo Connection Close"
   ]
  },
  {
   "cell_type": "code",
   "execution_count": null,
   "metadata": {},
   "outputs": [],
   "source": [
    "connection.close()"
   ]
  }
 ],
 "metadata": {
  "kernelspec": {
   "display_name": "MongoDB",
   "language": "python",
   "name": "mongodb"
  },
  "language_info": {
   "codemirror_mode": {
    "name": "ipython",
    "version": 3
   },
   "file_extension": ".py",
   "mimetype": "text/x-python",
   "name": "python",
   "nbconvert_exporter": "python",
   "pygments_lexer": "ipython3",
   "version": "3.7.1"
  }
 },
 "nbformat": 4,
 "nbformat_minor": 4
}
